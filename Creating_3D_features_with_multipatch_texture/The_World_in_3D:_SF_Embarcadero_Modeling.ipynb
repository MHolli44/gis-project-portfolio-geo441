{
  "nbformat": 4,
  "nbformat_minor": 0,
  "metadata": {
    "colab": {
      "provenance": [],
      "toc_visible": true,
      "include_colab_link": true
    },
    "kernelspec": {
      "name": "python3",
      "display_name": "Python 3"
    },
    "language_info": {
      "name": "python"
    }
  },
  "cells": [
    {
      "cell_type": "markdown",
      "metadata": {
        "id": "view-in-github",
        "colab_type": "text"
      },
      "source": [
        "<a href=\"https://colab.research.google.com/github/MHolli44/gis-project-portfolio-geo441/blob/main/Creating_3D_features_with_multipatch_texture/The_World_in_3D%3A_SF_Embarcadero_Modeling.ipynb\" target=\"_parent\"><img src=\"https://colab.research.google.com/assets/colab-badge.svg\" alt=\"Open In Colab\"/></a>"
      ]
    },
    {
      "cell_type": "markdown",
      "source": [
        "# **Creating 3D features with multipatch texture**"
      ],
      "metadata": {
        "id": "C0ymCPR5aSHN"
      }
    },
    {
      "cell_type": "markdown",
      "source": [
        "🚀 Created by Michael Hollingsworth\n",
        "\n",
        "[11/13/2024]"
      ],
      "metadata": {
        "id": "Pt_OREXFPvkr"
      }
    },
    {
      "cell_type": "markdown",
      "source": [
        "## **Get ready to start**\n",
        "\n",
        "- Click **`File/Save a copy in Drive`** to save a copy of this notebook to my own Google Drive"
      ],
      "metadata": {
        "id": "CMQN_pgaHVLO"
      }
    },
    {
      "cell_type": "markdown",
      "source": [
        "## **Overview**\n",
        "\n",
        "- This notebook includes:\n",
        "  - Part 1:  Key steps to create a 3D feature with multipatch texture in our Week 11 assignment\n",
        "  - Part 2: Information on historical buildings\n",
        "Use a table to provide the following information\n",
        "Block number, lot number, and building number\n",
        "Height in feet\n",
        "Sanborn floor number (if any)\n",
        "  - Part 3: A map showing the 3D features with texture picture\n",
        "\n",
        "    "
      ],
      "metadata": {
        "id": "6tKmlbnzny_I"
      }
    },
    {
      "cell_type": "markdown",
      "source": [
        "## **Part 1:  Key steps to create a 3D feature with multipatch texture in our Week 11 assignment**"
      ],
      "metadata": {
        "id": "knQezaT0XILw"
      }
    },
    {
      "cell_type": "markdown",
      "source": [
        "- Use the checklist below to make sure our map contains all necessary map content and is formatted correctly\n",
        "\n",
        "  - [ ] Create an ArcGIS project and let ArcGIS create a folder for this project\n",
        "  - [ ] Put the downloaded geodatabase file in this new folder and unzip\n",
        "  - [ ] Insert, Create a New Map (New Local Scene)\n",
        "  - [ ] Add Extrusion, Field Type as Max Height\n",
        "  - [ ] Analysis, Tools (Search: Layer 3D to Feature Class)\n",
        "  - [ ] Insert your building name (ex.T166_1) under Input Feature Layer\n",
        "  - [ ] Output (Name ex. T166_1 Layer3DToFeatureClass1)\n",
        "  - [ ] Group Field as BLOCK_LOT_BLDG (then click RUN)\n",
        "  - [ ] Edit, Snapping, Modify Feature (Multipatch Texture)\n",
        "  - [ ] Click the building you want to select (ex.T166_1)\n",
        "    - [ ] Click the side you want to load your text to\n",
        "    - [ ] Click Load Texture (Within your Files load your Image, then Click Apply\n",
        "    - [ ] Once you load your Texture Zoom in/out, move to fit your 3D Image\n",
        "  - [ ] Repeat Process for each side and each building"
      ],
      "metadata": {
        "id": "-NOVGCtkXOm-"
      }
    },
    {
      "cell_type": "markdown",
      "source": [
        "## **Part 2: Information on historical buildings**"
      ],
      "metadata": {
        "id": "zNWPkAxUXnEt"
      }
    },
    {
      "cell_type": "markdown",
      "source": [
        "### **Table to provide the Block number, lot number, and building number Height in feet Sanborn floor number (if any)**"
      ],
      "metadata": {
        "id": "1_9kgv7nWPi0"
      }
    },
    {
      "cell_type": "markdown",
      "source": [
        "| Block #, Lot #, Building # | Height (ft) | Sanborn floor # |\n",
        "| ------------------ | ------------------ | --------------- |\n",
        "| 173,6 | 46 | 3 |\n",
        "| 173,7 | 46 | Null |\n",
        "| 173,9 | 51 | 2 |"
      ],
      "metadata": {
        "id": "s1fIk7zdWZF6"
      }
    },
    {
      "cell_type": "markdown",
      "source": [
        "### **Part 3: A map showing the 3D features with texture picture**"
      ],
      "metadata": {
        "id": "Xy1iTFLrp0JH"
      }
    },
    {
      "cell_type": "markdown",
      "source": [
        "```markdown\n",
        "https://drive.google.com/file/d/1S-5UmqEkYp_tNVxXFOjh8MqhzP3GU_i8/view?usp=sharing\n",
        "```\n",
        "\n",
        "- After finishing the two steps below, a link can be created to correctly rendered in Google Colab\n",
        "  - Deleted **`/view?usp=sharing`** at the end of the link\n",
        "  - Replaced **`/file/d/`** with **`/uc?export=view&id=`**\n",
        "\n",
        "```markdown\n",
        "https://drive.google.com/uc?export=view&id=1S-5UmqEkYp_tNVxXFOjh8MqhzP3GU_i8\n",
        "```\n",
        "\n",
        "- The map can be inserted in Google Colab following the syntax [from here](https://www.markdownguide.org/cheat-sheet/)\n",
        "\n",
        "```markdown\n",
        "Insert the map here using syntax:\n",
        "![The world in 3D](https://drive.google.com/uc?export=view&id=1S-5UmqEkYp_tNVxXFOjh8MqhzP3GU_i8)\n",
        "```\n",
        "\n",
        "![The world in 3D](https://drive.google.com/uc?export=view&id=1S-5UmqEkYp_tNVxXFOjh8MqhzP3GU_i8)"
      ],
      "metadata": {
        "id": "xn1jvijPqI37"
      }
    },
    {
      "cell_type": "markdown",
      "source": [
        "## **Save and share this notebook**\n",
        "\n",
        "- **Save the final version of this notebook to your GitHub repository of GEO 441/541B**\n",
        "  - You can place this notebook under a new folder of `Creating 3D features with multipatch texture`\n",
        "  - Update your README document to link the copy of this notebook in the GitHub repository\n",
        "- Submit a link to your GitHub for Week 11 Extra Credit assignment\n"
      ],
      "metadata": {
        "id": "kkgukjDcXsqC"
      }
    },
    {
      "cell_type": "markdown",
      "source": [
        "## **Reference**\n",
        "\n",
        "- [Markdown cheat sheet](https://www.markdownguide.org/cheat-sheet/)\n",
        "- [Insert other references]\n",
        "\n",
        "\n",
        "| Spatial Resolution | Spatial Reference Name | Linear Unit |\n",
        "| ------------------ | ------------------ | --------------- |\n",
        "| 30.0 | AEA_WGS84 | Meters (1.0) |"
      ],
      "metadata": {
        "id": "fvMbEX89YLeY"
      }
    }
  ]
}